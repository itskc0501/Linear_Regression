{
 "cells": [
  {
   "attachments": {},
   "cell_type": "markdown",
   "metadata": {},
   "source": [
    "Import all the necessary libraries as:"
   ]
  },
  {
   "cell_type": "code",
   "execution_count": 6,
   "metadata": {},
   "outputs": [],
   "source": [
    "import numpy as np\n",
    "import pandas as pd\n",
    "import matplotlib.pyplot as plt"
   ]
  },
  {
   "cell_type": "code",
   "execution_count": 7,
   "metadata": {},
   "outputs": [],
   "source": [
    "import seaborn as sns"
   ]
  },
  {
   "attachments": {},
   "cell_type": "markdown",
   "metadata": {},
   "source": [
    "Given below is the code for the implementation of the Linear Regression Model. We assume that the parameters to the model are in the form of panda tables."
   ]
  },
  {
   "cell_type": "code",
   "execution_count": 8,
   "metadata": {},
   "outputs": [],
   "source": [
    "class LinRegression:\n",
    "\n",
    "    def __init__(self,lr=0.01,iter=1000,err_limit = 10**-3):\n",
    "        self.lr = lr\n",
    "        self.iter = iter\n",
    "        self.err_limit = err_limit\n",
    "\n",
    "    def add_const_row(self,X):\n",
    "        if 'const' not in X:\n",
    "            c = np.ones(X.shape[0])\n",
    "            X.insert(0,'const',c)\n",
    "        return np.array(X)\n",
    "    \n",
    "\n",
    "    def train(self,X_train,Y_train):\n",
    "        X_train = self.add_const_row(X_train)\n",
    "        self.num_feat = X_train.shape[0]\n",
    "        self.num_col = X_train.shape[1]\n",
    "        self.beta = np.ones(self.num_col)\n",
    "        self.xmean=[]\n",
    "        self.xstd=[]\n",
    "        self.ymean=np.mean(Y_train)\n",
    "        self.ystd = np.std(Y_train)\n",
    "\n",
    "        self.error = []\n",
    "        X_train = np.transpose(X_train)\n",
    "        for i in range(1,self.num_col):\n",
    "            self.xmean.append(np.mean(X_train[i]))\n",
    "            self.xstd.append(np.std(X_train[i]))\n",
    "\n",
    "        for i in range(1,self.num_col):\n",
    "            X_train[i] = (X_train[i] - self.xmean[i-1])/self.xstd[i-1]\n",
    "        Y_train = (Y_train - self.ymean)/self.ystd\n",
    "\n",
    "        for i in range(self.iter):\n",
    "            err = np.dot(np.transpose(X_train),self.beta)-Y_train\n",
    "            e = np.mean(err**2)\n",
    "            self.error.append(e)\n",
    "\n",
    "            if (e<self.err_limit):\n",
    "                break\n",
    "\n",
    "            der = np.dot(X_train,err)/self.num_feat\n",
    "            self.beta = self.beta - self.lr*der           \n",
    "\n",
    "        return self.beta,self.error\n",
    "\n",
    "    \n",
    "    def predict(self,X_test):\n",
    "        X_test = self.add_const_row(X_test)\n",
    "        X_test = np.transpose(X_test)\n",
    "        for i in range(1,X_test.shape[0]):\n",
    "            X_test[i] = (X_test[i] - self.xmean[i-1])/self.xstd[i-1]\n",
    "        out = np.dot(np.transpose(X_test),self.beta)\n",
    "        out = out*self.ystd + self.ymean\n",
    "        return out\n",
    "        "
   ]
  },
  {
   "attachments": {},
   "cell_type": "markdown",
   "metadata": {},
   "source": [
    "Now, we shall focus on building the training and test datasets for predicting and using the model."
   ]
  },
  {
   "cell_type": "code",
   "execution_count": 9,
   "metadata": {},
   "outputs": [
    {
     "data": {
      "text/html": [
       "<div>\n",
       "<style scoped>\n",
       "    .dataframe tbody tr th:only-of-type {\n",
       "        vertical-align: middle;\n",
       "    }\n",
       "\n",
       "    .dataframe tbody tr th {\n",
       "        vertical-align: top;\n",
       "    }\n",
       "\n",
       "    .dataframe thead th {\n",
       "        text-align: right;\n",
       "    }\n",
       "</style>\n",
       "<table border=\"1\" class=\"dataframe\">\n",
       "  <thead>\n",
       "    <tr style=\"text-align: right;\">\n",
       "      <th></th>\n",
       "      <th>age</th>\n",
       "      <th>sex</th>\n",
       "      <th>bmi</th>\n",
       "      <th>children</th>\n",
       "      <th>smoker</th>\n",
       "      <th>region</th>\n",
       "      <th>charges</th>\n",
       "    </tr>\n",
       "  </thead>\n",
       "  <tbody>\n",
       "    <tr>\n",
       "      <th>0</th>\n",
       "      <td>19</td>\n",
       "      <td>female</td>\n",
       "      <td>27.900</td>\n",
       "      <td>0</td>\n",
       "      <td>yes</td>\n",
       "      <td>southwest</td>\n",
       "      <td>16884.92400</td>\n",
       "    </tr>\n",
       "    <tr>\n",
       "      <th>1</th>\n",
       "      <td>18</td>\n",
       "      <td>male</td>\n",
       "      <td>33.770</td>\n",
       "      <td>1</td>\n",
       "      <td>no</td>\n",
       "      <td>southeast</td>\n",
       "      <td>1725.55230</td>\n",
       "    </tr>\n",
       "    <tr>\n",
       "      <th>2</th>\n",
       "      <td>28</td>\n",
       "      <td>male</td>\n",
       "      <td>33.000</td>\n",
       "      <td>3</td>\n",
       "      <td>no</td>\n",
       "      <td>southeast</td>\n",
       "      <td>4449.46200</td>\n",
       "    </tr>\n",
       "    <tr>\n",
       "      <th>3</th>\n",
       "      <td>33</td>\n",
       "      <td>male</td>\n",
       "      <td>22.705</td>\n",
       "      <td>0</td>\n",
       "      <td>no</td>\n",
       "      <td>northwest</td>\n",
       "      <td>21984.47061</td>\n",
       "    </tr>\n",
       "    <tr>\n",
       "      <th>4</th>\n",
       "      <td>32</td>\n",
       "      <td>male</td>\n",
       "      <td>28.880</td>\n",
       "      <td>0</td>\n",
       "      <td>no</td>\n",
       "      <td>northwest</td>\n",
       "      <td>3866.85520</td>\n",
       "    </tr>\n",
       "    <tr>\n",
       "      <th>...</th>\n",
       "      <td>...</td>\n",
       "      <td>...</td>\n",
       "      <td>...</td>\n",
       "      <td>...</td>\n",
       "      <td>...</td>\n",
       "      <td>...</td>\n",
       "      <td>...</td>\n",
       "    </tr>\n",
       "    <tr>\n",
       "      <th>1333</th>\n",
       "      <td>50</td>\n",
       "      <td>male</td>\n",
       "      <td>30.970</td>\n",
       "      <td>3</td>\n",
       "      <td>no</td>\n",
       "      <td>northwest</td>\n",
       "      <td>10600.54830</td>\n",
       "    </tr>\n",
       "    <tr>\n",
       "      <th>1334</th>\n",
       "      <td>18</td>\n",
       "      <td>female</td>\n",
       "      <td>31.920</td>\n",
       "      <td>0</td>\n",
       "      <td>no</td>\n",
       "      <td>northeast</td>\n",
       "      <td>2205.98080</td>\n",
       "    </tr>\n",
       "    <tr>\n",
       "      <th>1335</th>\n",
       "      <td>18</td>\n",
       "      <td>female</td>\n",
       "      <td>36.850</td>\n",
       "      <td>0</td>\n",
       "      <td>no</td>\n",
       "      <td>southeast</td>\n",
       "      <td>1629.83350</td>\n",
       "    </tr>\n",
       "    <tr>\n",
       "      <th>1336</th>\n",
       "      <td>21</td>\n",
       "      <td>female</td>\n",
       "      <td>25.800</td>\n",
       "      <td>0</td>\n",
       "      <td>no</td>\n",
       "      <td>southwest</td>\n",
       "      <td>2007.94500</td>\n",
       "    </tr>\n",
       "    <tr>\n",
       "      <th>1337</th>\n",
       "      <td>61</td>\n",
       "      <td>female</td>\n",
       "      <td>29.070</td>\n",
       "      <td>0</td>\n",
       "      <td>yes</td>\n",
       "      <td>northwest</td>\n",
       "      <td>29141.36030</td>\n",
       "    </tr>\n",
       "  </tbody>\n",
       "</table>\n",
       "<p>1338 rows × 7 columns</p>\n",
       "</div>"
      ],
      "text/plain": [
       "      age     sex     bmi  children smoker     region      charges\n",
       "0      19  female  27.900         0    yes  southwest  16884.92400\n",
       "1      18    male  33.770         1     no  southeast   1725.55230\n",
       "2      28    male  33.000         3     no  southeast   4449.46200\n",
       "3      33    male  22.705         0     no  northwest  21984.47061\n",
       "4      32    male  28.880         0     no  northwest   3866.85520\n",
       "...   ...     ...     ...       ...    ...        ...          ...\n",
       "1333   50    male  30.970         3     no  northwest  10600.54830\n",
       "1334   18  female  31.920         0     no  northeast   2205.98080\n",
       "1335   18  female  36.850         0     no  southeast   1629.83350\n",
       "1336   21  female  25.800         0     no  southwest   2007.94500\n",
       "1337   61  female  29.070         0    yes  northwest  29141.36030\n",
       "\n",
       "[1338 rows x 7 columns]"
      ]
     },
     "execution_count": 9,
     "metadata": {},
     "output_type": "execute_result"
    }
   ],
   "source": [
    "df = pd.read_csv(\"Medical Price Dataset.csv\")\n",
    "df"
   ]
  },
  {
   "attachments": {},
   "cell_type": "markdown",
   "metadata": {},
   "source": [
    "Now, lets look at cleaning up the data."
   ]
  },
  {
   "cell_type": "code",
   "execution_count": 11,
   "metadata": {},
   "outputs": [],
   "source": [
    "Y = df.charges.values\n",
    "df = df.drop('charges',axis=1)\n",
    "\n",
    "df.sex = df.sex.replace('female',1)\n",
    "df.sex = df.sex.replace('male',0)\n",
    "\n",
    "df.smoker = df.smoker.replace('yes',1)\n",
    "df.smoker = df.smoker.replace('no',0)\n",
    "\n",
    "df.region = df.region.replace('northeast',0)\n",
    "df.region = df.region.replace('northwest',1)\n",
    "df.region = df.region.replace('southeast',2)\n",
    "df.region = df.region.replace('southwest',3)"
   ]
  },
  {
   "cell_type": "code",
   "execution_count": 12,
   "metadata": {},
   "outputs": [
    {
     "data": {
      "text/html": [
       "<div>\n",
       "<style scoped>\n",
       "    .dataframe tbody tr th:only-of-type {\n",
       "        vertical-align: middle;\n",
       "    }\n",
       "\n",
       "    .dataframe tbody tr th {\n",
       "        vertical-align: top;\n",
       "    }\n",
       "\n",
       "    .dataframe thead th {\n",
       "        text-align: right;\n",
       "    }\n",
       "</style>\n",
       "<table border=\"1\" class=\"dataframe\">\n",
       "  <thead>\n",
       "    <tr style=\"text-align: right;\">\n",
       "      <th></th>\n",
       "      <th>age</th>\n",
       "      <th>sex</th>\n",
       "      <th>bmi</th>\n",
       "      <th>children</th>\n",
       "      <th>smoker</th>\n",
       "      <th>region</th>\n",
       "    </tr>\n",
       "  </thead>\n",
       "  <tbody>\n",
       "    <tr>\n",
       "      <th>0</th>\n",
       "      <td>19</td>\n",
       "      <td>1</td>\n",
       "      <td>27.900</td>\n",
       "      <td>0</td>\n",
       "      <td>1</td>\n",
       "      <td>3</td>\n",
       "    </tr>\n",
       "    <tr>\n",
       "      <th>1</th>\n",
       "      <td>18</td>\n",
       "      <td>0</td>\n",
       "      <td>33.770</td>\n",
       "      <td>1</td>\n",
       "      <td>0</td>\n",
       "      <td>2</td>\n",
       "    </tr>\n",
       "    <tr>\n",
       "      <th>2</th>\n",
       "      <td>28</td>\n",
       "      <td>0</td>\n",
       "      <td>33.000</td>\n",
       "      <td>3</td>\n",
       "      <td>0</td>\n",
       "      <td>2</td>\n",
       "    </tr>\n",
       "    <tr>\n",
       "      <th>3</th>\n",
       "      <td>33</td>\n",
       "      <td>0</td>\n",
       "      <td>22.705</td>\n",
       "      <td>0</td>\n",
       "      <td>0</td>\n",
       "      <td>1</td>\n",
       "    </tr>\n",
       "    <tr>\n",
       "      <th>4</th>\n",
       "      <td>32</td>\n",
       "      <td>0</td>\n",
       "      <td>28.880</td>\n",
       "      <td>0</td>\n",
       "      <td>0</td>\n",
       "      <td>1</td>\n",
       "    </tr>\n",
       "    <tr>\n",
       "      <th>...</th>\n",
       "      <td>...</td>\n",
       "      <td>...</td>\n",
       "      <td>...</td>\n",
       "      <td>...</td>\n",
       "      <td>...</td>\n",
       "      <td>...</td>\n",
       "    </tr>\n",
       "    <tr>\n",
       "      <th>1333</th>\n",
       "      <td>50</td>\n",
       "      <td>0</td>\n",
       "      <td>30.970</td>\n",
       "      <td>3</td>\n",
       "      <td>0</td>\n",
       "      <td>1</td>\n",
       "    </tr>\n",
       "    <tr>\n",
       "      <th>1334</th>\n",
       "      <td>18</td>\n",
       "      <td>1</td>\n",
       "      <td>31.920</td>\n",
       "      <td>0</td>\n",
       "      <td>0</td>\n",
       "      <td>0</td>\n",
       "    </tr>\n",
       "    <tr>\n",
       "      <th>1335</th>\n",
       "      <td>18</td>\n",
       "      <td>1</td>\n",
       "      <td>36.850</td>\n",
       "      <td>0</td>\n",
       "      <td>0</td>\n",
       "      <td>2</td>\n",
       "    </tr>\n",
       "    <tr>\n",
       "      <th>1336</th>\n",
       "      <td>21</td>\n",
       "      <td>1</td>\n",
       "      <td>25.800</td>\n",
       "      <td>0</td>\n",
       "      <td>0</td>\n",
       "      <td>3</td>\n",
       "    </tr>\n",
       "    <tr>\n",
       "      <th>1337</th>\n",
       "      <td>61</td>\n",
       "      <td>1</td>\n",
       "      <td>29.070</td>\n",
       "      <td>0</td>\n",
       "      <td>1</td>\n",
       "      <td>1</td>\n",
       "    </tr>\n",
       "  </tbody>\n",
       "</table>\n",
       "<p>1338 rows × 6 columns</p>\n",
       "</div>"
      ],
      "text/plain": [
       "      age  sex     bmi  children  smoker  region\n",
       "0      19    1  27.900         0       1       3\n",
       "1      18    0  33.770         1       0       2\n",
       "2      28    0  33.000         3       0       2\n",
       "3      33    0  22.705         0       0       1\n",
       "4      32    0  28.880         0       0       1\n",
       "...   ...  ...     ...       ...     ...     ...\n",
       "1333   50    0  30.970         3       0       1\n",
       "1334   18    1  31.920         0       0       0\n",
       "1335   18    1  36.850         0       0       2\n",
       "1336   21    1  25.800         0       0       3\n",
       "1337   61    1  29.070         0       1       1\n",
       "\n",
       "[1338 rows x 6 columns]"
      ]
     },
     "execution_count": 12,
     "metadata": {},
     "output_type": "execute_result"
    }
   ],
   "source": [
    "df"
   ]
  },
  {
   "cell_type": "code",
   "execution_count": 13,
   "metadata": {},
   "outputs": [
    {
     "data": {
      "text/plain": [
       "array([16884.924 ,  1725.5523,  4449.462 , ...,  1629.8335,  2007.945 ,\n",
       "       29141.3603])"
      ]
     },
     "execution_count": 13,
     "metadata": {},
     "output_type": "execute_result"
    }
   ],
   "source": [
    "Y"
   ]
  },
  {
   "attachments": {},
   "cell_type": "markdown",
   "metadata": {},
   "source": [
    "We shall be using the builtin function train_test_split() from the sklearn library to split our datasets into the ones for training and testing. This can also be done by playing around with the random function but because of the time crunch I'm going with the later one."
   ]
  },
  {
   "cell_type": "code",
   "execution_count": 10,
   "metadata": {},
   "outputs": [],
   "source": [
    "from sklearn.model_selection import train_test_split"
   ]
  },
  {
   "cell_type": "code",
   "execution_count": 14,
   "metadata": {},
   "outputs": [],
   "source": [
    "X_train, X_test, Y_train, Y_test = train_test_split(df,Y,test_size=0.25,random_state=18)"
   ]
  },
  {
   "cell_type": "code",
   "execution_count": 18,
   "metadata": {},
   "outputs": [],
   "source": [
    "X_train = X_train.reset_index()\n",
    "X_test = X_test.reset_index()\n",
    "X_train = X_train.drop('index',axis=1)\n",
    "X_test = X_test.drop('index',axis=1)"
   ]
  },
  {
   "cell_type": "code",
   "execution_count": 26,
   "metadata": {},
   "outputs": [],
   "source": [
    "X_train = X_train.drop('level_0',axis=1)\n",
    "X_test = X_test.drop('level_0',axis=1)"
   ]
  },
  {
   "cell_type": "code",
   "execution_count": 29,
   "metadata": {},
   "outputs": [
    {
     "data": {
      "text/html": [
       "<div>\n",
       "<style scoped>\n",
       "    .dataframe tbody tr th:only-of-type {\n",
       "        vertical-align: middle;\n",
       "    }\n",
       "\n",
       "    .dataframe tbody tr th {\n",
       "        vertical-align: top;\n",
       "    }\n",
       "\n",
       "    .dataframe thead th {\n",
       "        text-align: right;\n",
       "    }\n",
       "</style>\n",
       "<table border=\"1\" class=\"dataframe\">\n",
       "  <thead>\n",
       "    <tr style=\"text-align: right;\">\n",
       "      <th></th>\n",
       "      <th>age</th>\n",
       "      <th>sex</th>\n",
       "      <th>bmi</th>\n",
       "      <th>children</th>\n",
       "      <th>smoker</th>\n",
       "      <th>region</th>\n",
       "    </tr>\n",
       "  </thead>\n",
       "  <tbody>\n",
       "    <tr>\n",
       "      <th>0</th>\n",
       "      <td>43</td>\n",
       "      <td>1</td>\n",
       "      <td>29.900</td>\n",
       "      <td>1</td>\n",
       "      <td>0</td>\n",
       "      <td>3</td>\n",
       "    </tr>\n",
       "    <tr>\n",
       "      <th>1</th>\n",
       "      <td>22</td>\n",
       "      <td>0</td>\n",
       "      <td>19.950</td>\n",
       "      <td>3</td>\n",
       "      <td>0</td>\n",
       "      <td>0</td>\n",
       "    </tr>\n",
       "    <tr>\n",
       "      <th>2</th>\n",
       "      <td>64</td>\n",
       "      <td>0</td>\n",
       "      <td>38.190</td>\n",
       "      <td>0</td>\n",
       "      <td>0</td>\n",
       "      <td>0</td>\n",
       "    </tr>\n",
       "    <tr>\n",
       "      <th>3</th>\n",
       "      <td>20</td>\n",
       "      <td>1</td>\n",
       "      <td>31.790</td>\n",
       "      <td>2</td>\n",
       "      <td>0</td>\n",
       "      <td>2</td>\n",
       "    </tr>\n",
       "    <tr>\n",
       "      <th>4</th>\n",
       "      <td>42</td>\n",
       "      <td>0</td>\n",
       "      <td>35.800</td>\n",
       "      <td>2</td>\n",
       "      <td>0</td>\n",
       "      <td>3</td>\n",
       "    </tr>\n",
       "    <tr>\n",
       "      <th>...</th>\n",
       "      <td>...</td>\n",
       "      <td>...</td>\n",
       "      <td>...</td>\n",
       "      <td>...</td>\n",
       "      <td>...</td>\n",
       "      <td>...</td>\n",
       "    </tr>\n",
       "    <tr>\n",
       "      <th>998</th>\n",
       "      <td>40</td>\n",
       "      <td>0</td>\n",
       "      <td>29.355</td>\n",
       "      <td>1</td>\n",
       "      <td>0</td>\n",
       "      <td>1</td>\n",
       "    </tr>\n",
       "    <tr>\n",
       "      <th>999</th>\n",
       "      <td>56</td>\n",
       "      <td>1</td>\n",
       "      <td>28.310</td>\n",
       "      <td>0</td>\n",
       "      <td>0</td>\n",
       "      <td>0</td>\n",
       "    </tr>\n",
       "    <tr>\n",
       "      <th>1000</th>\n",
       "      <td>50</td>\n",
       "      <td>0</td>\n",
       "      <td>32.300</td>\n",
       "      <td>2</td>\n",
       "      <td>0</td>\n",
       "      <td>3</td>\n",
       "    </tr>\n",
       "    <tr>\n",
       "      <th>1001</th>\n",
       "      <td>47</td>\n",
       "      <td>1</td>\n",
       "      <td>26.600</td>\n",
       "      <td>2</td>\n",
       "      <td>0</td>\n",
       "      <td>0</td>\n",
       "    </tr>\n",
       "    <tr>\n",
       "      <th>1002</th>\n",
       "      <td>62</td>\n",
       "      <td>0</td>\n",
       "      <td>38.830</td>\n",
       "      <td>0</td>\n",
       "      <td>0</td>\n",
       "      <td>2</td>\n",
       "    </tr>\n",
       "  </tbody>\n",
       "</table>\n",
       "<p>1003 rows × 6 columns</p>\n",
       "</div>"
      ],
      "text/plain": [
       "      age  sex     bmi  children  smoker  region\n",
       "0      43    1  29.900         1       0       3\n",
       "1      22    0  19.950         3       0       0\n",
       "2      64    0  38.190         0       0       0\n",
       "3      20    1  31.790         2       0       2\n",
       "4      42    0  35.800         2       0       3\n",
       "...   ...  ...     ...       ...     ...     ...\n",
       "998    40    0  29.355         1       0       1\n",
       "999    56    1  28.310         0       0       0\n",
       "1000   50    0  32.300         2       0       3\n",
       "1001   47    1  26.600         2       0       0\n",
       "1002   62    0  38.830         0       0       2\n",
       "\n",
       "[1003 rows x 6 columns]"
      ]
     },
     "execution_count": 29,
     "metadata": {},
     "output_type": "execute_result"
    }
   ],
   "source": [
    "X_train"
   ]
  },
  {
   "cell_type": "code",
   "execution_count": 30,
   "metadata": {},
   "outputs": [
    {
     "data": {
      "text/html": [
       "<div>\n",
       "<style scoped>\n",
       "    .dataframe tbody tr th:only-of-type {\n",
       "        vertical-align: middle;\n",
       "    }\n",
       "\n",
       "    .dataframe tbody tr th {\n",
       "        vertical-align: top;\n",
       "    }\n",
       "\n",
       "    .dataframe thead th {\n",
       "        text-align: right;\n",
       "    }\n",
       "</style>\n",
       "<table border=\"1\" class=\"dataframe\">\n",
       "  <thead>\n",
       "    <tr style=\"text-align: right;\">\n",
       "      <th></th>\n",
       "      <th>age</th>\n",
       "      <th>sex</th>\n",
       "      <th>bmi</th>\n",
       "      <th>children</th>\n",
       "      <th>smoker</th>\n",
       "      <th>region</th>\n",
       "    </tr>\n",
       "  </thead>\n",
       "  <tbody>\n",
       "    <tr>\n",
       "      <th>0</th>\n",
       "      <td>55</td>\n",
       "      <td>0</td>\n",
       "      <td>30.685</td>\n",
       "      <td>0</td>\n",
       "      <td>1</td>\n",
       "      <td>0</td>\n",
       "    </tr>\n",
       "    <tr>\n",
       "      <th>1</th>\n",
       "      <td>35</td>\n",
       "      <td>0</td>\n",
       "      <td>36.670</td>\n",
       "      <td>1</td>\n",
       "      <td>1</td>\n",
       "      <td>0</td>\n",
       "    </tr>\n",
       "    <tr>\n",
       "      <th>2</th>\n",
       "      <td>45</td>\n",
       "      <td>1</td>\n",
       "      <td>28.600</td>\n",
       "      <td>2</td>\n",
       "      <td>0</td>\n",
       "      <td>2</td>\n",
       "    </tr>\n",
       "    <tr>\n",
       "      <th>3</th>\n",
       "      <td>27</td>\n",
       "      <td>0</td>\n",
       "      <td>42.130</td>\n",
       "      <td>0</td>\n",
       "      <td>1</td>\n",
       "      <td>2</td>\n",
       "    </tr>\n",
       "    <tr>\n",
       "      <th>4</th>\n",
       "      <td>64</td>\n",
       "      <td>1</td>\n",
       "      <td>31.300</td>\n",
       "      <td>2</td>\n",
       "      <td>1</td>\n",
       "      <td>3</td>\n",
       "    </tr>\n",
       "    <tr>\n",
       "      <th>...</th>\n",
       "      <td>...</td>\n",
       "      <td>...</td>\n",
       "      <td>...</td>\n",
       "      <td>...</td>\n",
       "      <td>...</td>\n",
       "      <td>...</td>\n",
       "    </tr>\n",
       "    <tr>\n",
       "      <th>330</th>\n",
       "      <td>18</td>\n",
       "      <td>0</td>\n",
       "      <td>34.430</td>\n",
       "      <td>0</td>\n",
       "      <td>0</td>\n",
       "      <td>2</td>\n",
       "    </tr>\n",
       "    <tr>\n",
       "      <th>331</th>\n",
       "      <td>18</td>\n",
       "      <td>1</td>\n",
       "      <td>28.215</td>\n",
       "      <td>0</td>\n",
       "      <td>0</td>\n",
       "      <td>0</td>\n",
       "    </tr>\n",
       "    <tr>\n",
       "      <th>332</th>\n",
       "      <td>41</td>\n",
       "      <td>0</td>\n",
       "      <td>29.640</td>\n",
       "      <td>5</td>\n",
       "      <td>0</td>\n",
       "      <td>0</td>\n",
       "    </tr>\n",
       "    <tr>\n",
       "      <th>333</th>\n",
       "      <td>34</td>\n",
       "      <td>0</td>\n",
       "      <td>42.130</td>\n",
       "      <td>2</td>\n",
       "      <td>0</td>\n",
       "      <td>2</td>\n",
       "    </tr>\n",
       "    <tr>\n",
       "      <th>334</th>\n",
       "      <td>62</td>\n",
       "      <td>1</td>\n",
       "      <td>30.495</td>\n",
       "      <td>2</td>\n",
       "      <td>0</td>\n",
       "      <td>1</td>\n",
       "    </tr>\n",
       "  </tbody>\n",
       "</table>\n",
       "<p>335 rows × 6 columns</p>\n",
       "</div>"
      ],
      "text/plain": [
       "     age  sex     bmi  children  smoker  region\n",
       "0     55    0  30.685         0       1       0\n",
       "1     35    0  36.670         1       1       0\n",
       "2     45    1  28.600         2       0       2\n",
       "3     27    0  42.130         0       1       2\n",
       "4     64    1  31.300         2       1       3\n",
       "..   ...  ...     ...       ...     ...     ...\n",
       "330   18    0  34.430         0       0       2\n",
       "331   18    1  28.215         0       0       0\n",
       "332   41    0  29.640         5       0       0\n",
       "333   34    0  42.130         2       0       2\n",
       "334   62    1  30.495         2       0       1\n",
       "\n",
       "[335 rows x 6 columns]"
      ]
     },
     "execution_count": 30,
     "metadata": {},
     "output_type": "execute_result"
    }
   ],
   "source": [
    "X_test"
   ]
  },
  {
   "attachments": {},
   "cell_type": "markdown",
   "metadata": {},
   "source": [
    "With the given data, one can play around with different columns and see how the data is being distributed over the plane. For instance - "
   ]
  },
  {
   "cell_type": "code",
   "execution_count": 22,
   "metadata": {},
   "outputs": [
    {
     "data": {
      "text/plain": [
       "<AxesSubplot:xlabel='bmi', ylabel='age'>"
      ]
     },
     "execution_count": 22,
     "metadata": {},
     "output_type": "execute_result"
    },
    {
     "data": {
      "image/png": "[encoded data removed]",
      "text/plain": [
       "<Figure size 432x288 with 1 Axes>"
      ]
     },
     "metadata": {
      "needs_background": "light"
     },
     "output_type": "display_data"
    }
   ],
   "source": [
    "sns.scatterplot(data=X_train,x='bmi',y='age',hue='region',style='sex')"
   ]
  },
  {
   "attachments": {},
   "cell_type": "markdown",
   "metadata": {},
   "source": [
    "We see that bmi and age are very widely sparsed out meaning that their correlation is nowhere near to 1."
   ]
  },
  {
   "attachments": {},
   "cell_type": "markdown",
   "metadata": {},
   "source": [
    "Now, lets shift back our aim towards getting our output."
   ]
  },
  {
   "cell_type": "code",
   "execution_count": 31,
   "metadata": {},
   "outputs": [],
   "source": [
    "Model = LinRegression()"
   ]
  },
  {
   "cell_type": "code",
   "execution_count": 32,
   "metadata": {},
   "outputs": [],
   "source": [
    "beta, error = Model.train(X_train,Y_train)"
   ]
  },
  {
   "cell_type": "code",
   "execution_count": 33,
   "metadata": {},
   "outputs": [
    {
     "data": {
      "text/plain": [
       "array([ 4.31712474e-05,  3.07186611e-01, -5.34518786e-03,  1.51475281e-01,\n",
       "        5.64867600e-02,  7.92534941e-01, -2.76093884e-02])"
      ]
     },
     "execution_count": 33,
     "metadata": {},
     "output_type": "execute_result"
    }
   ],
   "source": [
    "beta"
   ]
  },
  {
   "cell_type": "code",
   "execution_count": 35,
   "metadata": {},
   "outputs": [
    {
     "data": {
      "text/plain": [
       "1000"
      ]
     },
     "execution_count": 35,
     "metadata": {},
     "output_type": "execute_result"
    }
   ],
   "source": [
    "len(error)"
   ]
  },
  {
   "attachments": {},
   "cell_type": "markdown",
   "metadata": {},
   "source": [
    "Let us attempt to plot this error vs the number of iterations and see how our Gradient Descent Algorithm is working."
   ]
  },
  {
   "cell_type": "code",
   "execution_count": 37,
   "metadata": {},
   "outputs": [
    {
     "data": {
      "image/png": "[encoded data removed]",
      "text/plain": [
       "<Figure size 432x288 with 1 Axes>"
      ]
     },
     "metadata": {
      "needs_background": "light"
     },
     "output_type": "display_data"
    }
   ],
   "source": [
    "iter = [i for i in range(len(error))]\n",
    "plt.figure()\n",
    "plt.plot(iter,error,'b-')\n",
    "plt.xlabel('Number of iterations')\n",
    "plt.ylabel('Mean Squared Error')\n",
    "plt.title('MSE vs Number of Iterations')\n",
    "plt.show()"
   ]
  },
  {
   "attachments": {},
   "cell_type": "markdown",
   "metadata": {},
   "source": [
    "We see that there is a uniform decrease in the error value which shows that our Algorithm is definetely working."
   ]
  },
  {
   "attachments": {},
   "cell_type": "markdown",
   "metadata": {},
   "source": [
    "Now lets get the required output."
   ]
  },
  {
   "cell_type": "code",
   "execution_count": 38,
   "metadata": {},
   "outputs": [],
   "source": [
    "output = Model.predict(X_test)"
   ]
  },
  {
   "cell_type": "code",
   "execution_count": 39,
   "metadata": {},
   "outputs": [
    {
     "data": {
      "text/plain": [
       "array([ 3.61687481e+04,  3.32885288e+04,  9.54202259e+03,  3.16742893e+04,\n",
       "        3.87953197e+04,  3.83892084e+03,  3.16063776e+04,  1.35820276e+04,\n",
       "        3.52039531e+04,  3.13488590e+04,  9.42915814e+02,  3.18679174e+04,\n",
       "        3.58707197e+04,  3.16231913e+03,  1.49462848e+04,  1.20456077e+04,\n",
       "        1.26033278e+04,  2.34049845e+04,  7.94256054e+03,  2.82280346e+04,\n",
       "        3.55084734e+04,  8.87886615e+03,  3.02053334e+03,  4.52328271e+03,\n",
       "       -7.47807351e+01,  2.76308928e+03,  2.66508275e+04,  4.94532118e+03,\n",
       "        4.58115642e+03,  2.60894585e+04,  3.01819340e+04,  7.07537710e-01,\n",
       "        4.09575624e+03,  2.22405616e+03,  2.70648196e+04,  1.44866506e+03,\n",
       "        1.59855642e+04,  1.21506773e+04,  3.04382382e+04,  2.63370726e+03,\n",
       "        4.26257342e+03,  3.51718984e+04,  4.09535047e+03,  3.39884151e+04,\n",
       "        8.08093043e+03,  4.69824624e+03,  3.78878960e+04,  3.34952769e+04,\n",
       "        9.50293901e+03, -1.12001362e+03,  1.07493038e+04,  3.08767454e+04,\n",
       "        3.97845256e+03,  6.72399888e+03,  3.52316471e+03,  6.71074469e+03,\n",
       "        9.35746865e+03,  1.40656824e+04,  5.54833085e+03,  4.84623802e+03,\n",
       "        1.46515279e+04,  4.17613583e+03,  6.02721974e+03,  7.41442756e+03,\n",
       "        7.82851653e+03,  9.52547049e+03,  7.60478769e+03,  1.19081866e+03,\n",
       "        1.12856996e+04,  8.90786712e+03,  5.13962685e+03,  1.27590649e+04,\n",
       "        2.58391897e+03,  2.88388730e+04,  9.47485571e+03,  1.50472744e+04,\n",
       "        2.49516674e+04,  1.62250159e+04,  2.68396037e+04,  2.71961051e+04,\n",
       "       -1.63168808e+03,  1.52055907e+04,  7.13987794e+03,  3.01486112e+04,\n",
       "        1.02583227e+04,  3.46064017e+04,  4.46454532e+03,  2.27385360e+03,\n",
       "        9.99037105e+03,  1.14950240e+04,  2.27578853e+03,  3.19910881e+04,\n",
       "        7.19121486e+03,  1.35800735e+04,  1.30196079e+03,  3.74751571e+04,\n",
       "        9.63999146e+03,  9.34547620e+03,  3.47698254e+04,  1.12791014e+04,\n",
       "        1.17762524e+04,  1.21382378e+04,  3.47278104e+04,  7.45557573e+03,\n",
       "        6.42008401e+03,  4.30886389e+03,  2.90021637e+04,  4.63399394e+03,\n",
       "        4.56674917e+03,  2.60706629e+04,  4.79168323e+02,  1.20087141e+04,\n",
       "        5.25730023e+03,  3.40244694e+04,  6.60507221e+03,  1.05466296e+04,\n",
       "        3.68102133e+04,  7.78026442e+03,  7.40844394e+03,  2.87481494e+03,\n",
       "        3.09643812e+04,  3.06367520e+04,  1.39807559e+04,  7.36269813e+03,\n",
       "        3.03061743e+04,  1.21825513e+04,  3.45502538e+04,  8.75780503e+03,\n",
       "        3.36414008e+04,  4.03384415e+03,  3.33045374e+03,  8.72965717e+03,\n",
       "       -9.19023565e+02,  1.43281505e+04,  1.43612866e+04,  1.24625011e+04,\n",
       "        4.42667570e+03,  1.14261818e+04,  1.96008165e+03,  1.36011339e+04,\n",
       "        3.90656063e+04,  1.06293602e+04,  4.13216044e+03,  1.44526608e+04,\n",
       "        2.78397470e+04,  2.56224370e+03,  2.83525806e+04,  4.05056638e+04,\n",
       "        2.79317489e+04,  7.10104184e+03,  9.75843775e+03,  8.00775734e+03,\n",
       "        4.91333514e+03,  7.53536606e+03,  3.67570019e+03,  8.08282012e+03,\n",
       "        1.13038391e+04,  7.78351059e+03,  3.41871705e+04,  1.34820209e+04,\n",
       "        1.12217784e+04,  1.56296681e+04,  4.08406959e+03,  1.13439624e+04,\n",
       "        5.37818074e+03,  8.25998915e+02,  2.08671280e+03,  3.07341319e+04,\n",
       "        1.10019368e+04,  1.36504642e+04,  6.47495038e+03,  1.15169632e+04,\n",
       "        1.25233987e+04,  3.19039747e+04,  4.31344640e+03,  5.30216438e+03,\n",
       "        1.44450511e+04,  3.62111417e+03,  1.55295708e+04,  5.37194973e+03,\n",
       "        1.17594746e+03,  5.04121369e+03,  2.92337601e+03,  7.72945255e+03,\n",
       "        3.69208798e+04,  5.89194810e+03,  1.73273674e+03,  1.34427763e+04,\n",
       "        1.03409342e+04,  3.20944794e+04,  3.01368582e+04,  7.39437538e+03,\n",
       "        7.34342483e+03,  7.83426132e+03,  1.16380406e+04,  8.82758727e+03,\n",
       "        5.23595358e+03,  1.26034442e+04,  5.04618575e+03,  4.08949375e+04,\n",
       "        9.59591634e+03,  1.06336845e+03,  1.46152012e+04,  2.85058905e+03,\n",
       "        7.22889471e+03,  5.62661173e+03,  2.20948782e+03,  4.44163941e+03,\n",
       "        4.24741597e+03,  4.18721644e+03,  1.28527088e+04,  3.34371260e+04,\n",
       "        3.19307408e+04,  7.70451534e+03,  6.53170700e+03,  7.20245966e+03,\n",
       "        1.13278877e+04,  3.82386312e+03,  1.13979147e+04,  1.01879903e+04,\n",
       "        8.90475997e+03,  3.19119157e+03,  7.50636509e+03,  8.76801003e+03,\n",
       "        1.04751688e+04,  1.11733623e+04,  6.21546128e+03,  1.06265226e+04,\n",
       "        6.21036722e+03,  1.31735711e+04,  6.89282831e+03,  9.11153656e+03,\n",
       "        9.92785372e+03,  3.60467530e+04,  1.57331179e+04,  5.67360741e+03,\n",
       "        9.80591404e+03,  7.43670828e+03,  2.69491365e+04,  1.15186087e+04,\n",
       "        3.79444289e+03,  7.98929254e+03,  2.70402101e+04,  2.43458767e+03,\n",
       "        1.01388461e+04,  2.18381947e+03,  9.93627752e+03,  3.14934925e+04,\n",
       "        3.13804854e+04,  1.34851921e+04,  1.85142151e+03,  8.28212026e+03,\n",
       "        1.04498450e+04,  3.87961105e+03,  3.53289881e+04,  1.30384254e+04,\n",
       "        2.71794721e+04,  1.31710341e+04,  3.72759060e+04,  1.61160887e+04,\n",
       "        5.30322635e+03,  1.43051836e+04,  2.67482295e+03,  4.32584738e+03,\n",
       "        4.28217803e+03,  8.54064582e+03,  1.97830486e+03,  1.95716061e+03,\n",
       "        8.81318001e+03,  2.79902339e+04,  1.07425863e+04,  1.32531305e+04,\n",
       "        1.70249332e+04,  1.13423529e+04,  3.05004889e+04,  1.05837588e+04,\n",
       "        3.90431704e+04,  4.29632106e+03,  1.12227540e+04,  3.30951262e+03,\n",
       "        6.70928558e+03,  2.61707214e+04,  1.30923415e+04,  2.15314015e+03,\n",
       "        2.20541106e+03,  1.00279930e+04,  3.72530197e+04,  1.63710668e+04,\n",
       "        1.11732232e+04,  1.00998263e+04,  3.33865975e+04,  1.15680586e+04,\n",
       "        3.83594560e+04,  3.87247289e+04,  2.89722126e+04,  8.58826292e+02,\n",
       "        1.09461948e+04,  1.52959471e+04,  1.43954238e+04,  8.54670356e+03,\n",
       "        1.13393487e+04,  1.26931789e+04,  5.72232956e+03,  2.68609088e+04,\n",
       "        8.04219102e+03,  4.76991269e+03,  1.16160271e+04,  4.13402542e+03,\n",
       "        1.18138517e+04,  3.51427781e+04,  2.23402835e+03,  2.95924116e+04,\n",
       "        8.72030272e+03,  1.64142977e+04,  7.56906608e+03,  1.42495638e+04,\n",
       "        8.33679289e+03,  9.31565055e+03,  1.40308532e+04,  1.35255516e+04,\n",
       "        3.67880905e+04,  3.25572465e+03,  2.88209613e+04,  2.80726305e+04,\n",
       "        1.51386648e+04,  5.65516806e+03,  2.99064305e+03,  3.11651222e+03,\n",
       "        5.96909846e+03,  2.30697352e+03,  3.24926262e+03,  1.87169263e+03,\n",
       "        1.11967498e+04,  1.08121497e+04,  1.48275359e+04])"
      ]
     },
     "execution_count": 39,
     "metadata": {},
     "output_type": "execute_result"
    }
   ],
   "source": [
    "output"
   ]
  },
  {
   "attachments": {},
   "cell_type": "markdown",
   "metadata": {},
   "source": [
    "We compare this with the true value printed below."
   ]
  },
  {
   "cell_type": "code",
   "execution_count": 40,
   "metadata": {},
   "outputs": [
    {
     "data": {
      "text/plain": [
       "array([42303.69215 , 39774.2763  ,  8516.829   , 39611.7577  ,\n",
       "       47291.055   ,  1629.8335  , 37607.5277  , 11289.10925 ,\n",
       "       41097.16175 , 21472.4788  ,  2196.4732  , 21771.3423  ,\n",
       "       26926.5144  ,  3279.86855 , 13224.05705 , 10797.3362  ,\n",
       "       11881.9696  , 20167.33603 ,  4670.64    , 17663.1442  ,\n",
       "       26109.32905 ,  9361.3268  , 16586.49771 ,  1633.0444  ,\n",
       "        1121.8739  ,  1877.9294  , 16115.3045  ,  6640.54485 ,\n",
       "        2404.7338  , 15006.57945 , 19361.9988  ,  1702.4553  ,\n",
       "        1674.6323  , 13126.67745 , 33907.548   ,  1743.214   ,\n",
       "       13470.8044  ,  9583.8933  , 18767.7377  ,  1748.774   ,\n",
       "        1631.8212  , 24869.8368  ,  1981.5819  , 23807.2406  ,\n",
       "        4518.82625 ,  6877.9801  , 60021.39897 , 24520.264   ,\n",
       "        7050.0213  ,  1241.565   ,  7443.64305 , 19798.05455 ,\n",
       "        4719.52405 ,  4433.3877  ,  3847.674   ,  7222.78625 ,\n",
       "        6082.405   ,  9704.66805 ,  4441.21315 ,  5209.57885 ,\n",
       "       13430.265   ,  4032.2407  ,  4438.2634  ,  5926.846   ,\n",
       "        3410.324   ,  5428.7277  ,  5425.02335 ,  1252.407   ,\n",
       "        8765.249   ,  8604.48365 ,  3972.9247  ,  7804.1605  ,\n",
       "       11272.33139 , 34672.1472  ,  2927.0647  , 12265.5069  ,\n",
       "       16884.924   , 36580.28216 , 33732.6867  , 33900.653   ,\n",
       "        1694.7964  ,  9058.7303  ,  6123.5688  , 19444.2658  ,\n",
       "       12029.2867  , 25309.489   ,  3537.703   ,  2155.6815  ,\n",
       "        9447.3824  , 13451.122   ,  3077.0955  , 39241.442   ,\n",
       "        5484.4673  , 11356.6609  ,  3180.5101  , 44260.7499  ,\n",
       "        8219.2039  , 10107.2206  , 48885.13561 , 13012.20865 ,\n",
       "       28476.73499 , 12333.828   , 24915.22085 ,  7325.0482  ,\n",
       "        5469.0066  ,  3645.0894  , 17179.522   ,  3761.292   ,\n",
       "        2138.0707  , 32548.3405  ,  1704.70015 ,  9140.951   ,\n",
       "        3021.80915 , 44501.3982  , 24671.66334 ,  7147.4728  ,\n",
       "       28101.33305 ,  6770.1925  ,  7985.815   ,  3161.454   ,\n",
       "       21082.16    , 19594.80965 , 10959.6947  ,  7623.518   ,\n",
       "       38126.2465  , 13041.921   , 40941.2854  ,  7726.854   ,\n",
       "       39725.51805 ,  2020.5523  ,  2639.0429  ,  8026.6666  ,\n",
       "        1607.5101  , 10579.711   , 13844.7972  , 10806.839   ,\n",
       "        3392.9768  ,  7265.7025  ,  1972.95    , 13390.559   ,\n",
       "       47403.88    ,  8968.33    , 17626.23951 ,  9504.3103  ,\n",
       "       18648.4217  ,  3044.2133  , 36219.40545 , 48549.17835 ,\n",
       "       18310.742   ,  4449.462   ,  6986.697   ,  3471.4096  ,\n",
       "        4137.5227  ,  9193.8385  ,  3309.7926  ,  7144.86265 ,\n",
       "        5846.9176  ,  3238.4357  , 24667.419   ,  9880.068   ,\n",
       "        8835.26495 , 14474.675   ,  5458.04645 ,  8596.8278  ,\n",
       "        3956.07145 ,  2803.69785 ,  3861.20965 , 20149.3229  ,\n",
       "        6373.55735 , 13429.0354  ,  4889.0368  , 23045.56616 ,\n",
       "       26392.26029 , 38282.7495  ,  2136.88225 ,  4415.1588  ,\n",
       "       12235.8392  ,  5116.5004  , 12741.16745 ,  3227.1211  ,\n",
       "        1632.56445 ,  2416.955   ,  1135.9407  ,  8539.671   ,\n",
       "       45863.205   ,  4562.8421  ,  2221.56445 , 20630.28351 ,\n",
       "       24915.04626 , 21259.37795 , 36837.467   ,  5375.038   ,\n",
       "        7077.1894  ,  6282.235   , 11842.442   ,  6112.35295 ,\n",
       "        1986.9334  , 12638.195   ,  1917.3184  , 49577.6624  ,\n",
       "        8823.279   ,  1632.03625 , 13555.0049  ,  2690.1138  ,\n",
       "        3766.8838  ,  2322.6218  ,  1622.1885  ,  5080.096   ,\n",
       "        1826.843   ,  3906.127   , 11848.141   , 39125.33225 ,\n",
       "       22331.5668  ,  5488.262   , 20420.60465 , 19442.3535  ,\n",
       "        8964.06055 , 10795.93733 ,  8334.5896  ,  4536.259   ,\n",
       "        4667.60765 ,  4906.40965 ,  9991.03765 , 10065.413   ,\n",
       "       10096.97    , 10594.50155 ,  5152.134   , 12475.3513  ,\n",
       "        5415.6612  , 11299.343   ,  4830.63    ,  6796.86325 ,\n",
       "        9282.4806  , 43896.3763  , 20709.02034 ,  4357.04365 ,\n",
       "        8116.68    ,  8627.5411  , 17043.3414  , 11931.12525 ,\n",
       "        3736.4647  , 12404.8791  , 32734.1863  , 21344.8467  ,\n",
       "       10422.91665 ,  3260.199   ,  9301.89355 , 37701.8768  ,\n",
       "       37270.1512  , 14001.1338  ,  1635.73365 ,  6238.298   ,\n",
       "        8162.71625 , 23288.9284  , 42983.4585  , 11938.25595 ,\n",
       "       16657.71745 ,  8342.90875 , 45008.9555  , 15612.19335 ,\n",
       "        5708.867   , 33471.97189 ,  1769.53165 ,  2902.9065  ,\n",
       "        2904.088   ,  6406.4107  ,  1131.5066  ,  2842.76075 ,\n",
       "        5630.45785 , 16776.30405 , 22192.43711 ,  9877.6077  ,\n",
       "       13831.1152  , 11305.93455 , 36950.2567  , 11073.176   ,\n",
       "       46130.5265  ,  3392.3652  , 11165.41765 ,  2789.0574  ,\n",
       "        4922.9159  , 33307.5508  ,  6356.2707  ,  7323.734819,\n",
       "        1815.8759  ,  7731.4271  , 29523.1656  , 14319.031   ,\n",
       "       19749.38338 ,  7682.67    , 38998.546   , 12124.9924  ,\n",
       "       46151.1245  , 46661.4424  , 34806.4677  ,  1837.237   ,\n",
       "       20878.78443 , 12979.358   , 11987.1682  ,  8932.084   ,\n",
       "       10436.096   , 10601.63225 ,  2534.39375 , 33750.2918  ,\n",
       "        5245.2269  ,  4934.705   , 12142.5786  ,  2494.022   ,\n",
       "       28923.13692 , 40720.55105 ,  4296.2712  , 37165.1638  ,\n",
       "       19214.70553 , 15161.5344  ,  9182.17    , 12643.3778  ,\n",
       "        6457.8434  ,  5934.3798  , 12244.531   , 13937.6665  ,\n",
       "       44423.803   ,  4827.90495 , 18765.87545 , 34838.873   ,\n",
       "       12648.7034  ,  5257.50795 ,  2130.6759  ,  1261.442   ,\n",
       "       19673.33573 ,  1719.4363  ,  1137.4697  ,  2200.83085 ,\n",
       "        9222.4026  ,  5124.1887  , 15019.76005 ])"
      ]
     },
     "execution_count": 40,
     "metadata": {},
     "output_type": "execute_result"
    }
   ],
   "source": [
    "Y_test"
   ]
  },
  {
   "attachments": {},
   "cell_type": "markdown",
   "metadata": {},
   "source": [
    "We see that there is a comparable difference between the predicted and true output and this was very much expected because the given dataset had a lot of columns which had discreet values and not ones with a continuous range. For such columns, it is very clearly understood that Linear Regression is not the best algorithm in terms of efficiency and a more Classification type algorithm would have been much more suitable."
   ]
  },
  {
   "attachments": {},
   "cell_type": "markdown",
   "metadata": {},
   "source": [
    "The optimal value of the learning rate and the number of iterations can be toggled around for the best output."
   ]
  },
  {
   "cell_type": "code",
   "execution_count": null,
   "metadata": {},
   "outputs": [],
   "source": []
  }
 ],
 "metadata": {
  "kernelspec": {
   "display_name": "Python 3",
   "language": "python",
   "name": "python3"
  },
  "language_info": {
   "codemirror_mode": {
    "name": "ipython",
    "version": 3
   },
   "file_extension": ".py",
   "mimetype": "text/x-python",
   "name": "python",
   "nbconvert_exporter": "python",
   "pygments_lexer": "ipython3",
   "version": "3.10.5"
  },
  "orig_nbformat": 4
 },
 "nbformat": 4,
 "nbformat_minor": 2
}
